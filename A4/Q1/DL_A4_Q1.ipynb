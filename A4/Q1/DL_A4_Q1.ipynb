{
  "nbformat": 4,
  "nbformat_minor": 0,
  "metadata": {
    "colab": {
      "provenance": [],
      "gpuType": "T4",
      "authorship_tag": "ABX9TyOqISgpTd2EHXpDUkdDh9hU",
      "include_colab_link": true
    },
    "kernelspec": {
      "name": "python3",
      "display_name": "Python 3"
    },
    "language_info": {
      "name": "python"
    },
    "accelerator": "GPU",
    "gpuClass": "standard"
  },
  "cells": [
    {
      "cell_type": "markdown",
      "metadata": {
        "id": "view-in-github",
        "colab_type": "text"
      },
      "source": [
        "<a href=\"https://colab.research.google.com/github/rishav197/DL-assignments-IIITD/blob/main/A4/Q1/DL_A4_Q1.ipynb\" target=\"_parent\"><img src=\"https://colab.research.google.com/assets/colab-badge.svg\" alt=\"Open In Colab\"/></a>"
      ]
    },
    {
      "cell_type": "code",
      "execution_count": null,
      "metadata": {
        "id": "ZBIwzT3g2rCd",
        "colab": {
          "base_uri": "https://localhost:8080/"
        },
        "outputId": "c3634afd-a037-48de-b683-bca20fe472a6"
      },
      "outputs": [
        {
          "output_type": "stream",
          "name": "stdout",
          "text": [
            "Mounted at /content/drive\n"
          ]
        }
      ],
      "source": [
        "from google.colab import drive\n",
        "drive.mount(\"/content/drive\")"
      ]
    },
    {
      "cell_type": "code",
      "source": [
        "import cv2\n",
        "import numpy as np\n",
        "import pandas as pd\n",
        "import matplotlib.pyplot as plt\n",
        "\n",
        "import glob # To find image paths\n",
        "from google.colab.patches import cv2_imshow\n"
      ],
      "metadata": {
        "id": "iEj1W4RefF7l"
      },
      "execution_count": null,
      "outputs": []
    },
    {
      "cell_type": "code",
      "source": [
        "import warnings\n",
        "warnings.filterwarnings('ignore')"
      ],
      "metadata": {
        "id": "tYpimRHh6C4N"
      },
      "execution_count": null,
      "outputs": []
    },
    {
      "cell_type": "code",
      "source": [
        "import json\n",
        "with open(\"/content/drive/MyDrive/hateful_memes/train.jsonl\") as f:\n",
        "  train_data = [json.loads(line) for line in f]\n",
        "\n",
        "with open(\"/content/drive/MyDrive/hateful_memes/dev_seen.jsonl\") as f:\n",
        "  valid_data = [json.loads(line) for line in f]\n",
        "\n",
        "with open(\"/content/drive/MyDrive/hateful_memes/test_seen.jsonl\") as f:\n",
        "  test_data = [json.loads(line) for line in f]\n",
        "\n",
        "print(type(train_data), len(train_data))\n",
        "print(type(valid_data), len(valid_data))\n",
        "print(type(test_data), len(test_data))"
      ],
      "metadata": {
        "id": "3aLF9VAW2zje",
        "colab": {
          "base_uri": "https://localhost:8080/"
        },
        "outputId": "b9379732-65b7-4c41-8a86-559aa86ba1cb"
      },
      "execution_count": null,
      "outputs": [
        {
          "output_type": "stream",
          "name": "stdout",
          "text": [
            "<class 'list'> 8500\n",
            "<class 'list'> 500\n",
            "<class 'list'> 1000\n"
          ]
        }
      ]
    },
    {
      "cell_type": "code",
      "source": [
        "train_data[:4]"
      ],
      "metadata": {
        "id": "CygEidgqcjrH",
        "colab": {
          "base_uri": "https://localhost:8080/"
        },
        "outputId": "a35410ec-9eb2-4141-d7d8-f3a9489af888"
      },
      "execution_count": null,
      "outputs": [
        {
          "output_type": "execute_result",
          "data": {
            "text/plain": [
              "[{'id': '42953',\n",
              "  'img': 'img/42953.png',\n",
              "  'label': 0,\n",
              "  'text': 'its their character not their color that matters'},\n",
              " {'id': '23058',\n",
              "  'img': 'img/23058.png',\n",
              "  'label': 0,\n",
              "  'text': \"don't be afraid to love again everyone is not like your ex\"},\n",
              " {'id': '13894',\n",
              "  'img': 'img/13894.png',\n",
              "  'label': 0,\n",
              "  'text': 'putting bows on your pet'},\n",
              " {'id': '37408',\n",
              "  'img': 'img/37408.png',\n",
              "  'label': 0,\n",
              "  'text': 'i love everything and everybody! except for squirrels i hate squirrels'}]"
            ]
          },
          "metadata": {},
          "execution_count": 5
        }
      ]
    },
    {
      "cell_type": "code",
      "source": [
        "path = \"/content/drive/MyDrive/hateful_memes/\"\n",
        "img = path + train_data[1]['img']\n",
        "\n",
        "img = cv2.imread(\"/content/drive/MyDrive/hateful_memes/img/70914.png\")\n",
        "# print(img)\n",
        "img = cv2.cvtColor(img, cv2.COLOR_BGR2GRAY)\n",
        "print(img.shape)\n",
        "img = cv2.resize(img, (224, 224))\n",
        "cv2_imshow(img)\n",
        "img = img.reshape(-1,)\n",
        "print(np.max(img), len(img))"
      ],
      "metadata": {
        "id": "s2w65PbV2zpV",
        "colab": {
          "base_uri": "https://localhost:8080/",
          "height": 277
        },
        "outputId": "d6bf26d3-a9aa-49eb-f69e-7fc672c82327"
      },
      "execution_count": null,
      "outputs": [
        {
          "output_type": "stream",
          "name": "stdout",
          "text": [
            "(618, 825)\n"
          ]
        },
        {
          "output_type": "display_data",
          "data": {
            "text/plain": [
              "<PIL.Image.Image image mode=L size=224x224 at 0x7FDC7F6696F0>"
            ],
            "image/png": "[encoded data removed]"
          },
          "metadata": {}
        },
        {
          "output_type": "stream",
          "name": "stdout",
          "text": [
            "255 50176\n"
          ]
        }
      ]
    },
    {
      "cell_type": "markdown",
      "source": [
        "### Preparing Train set"
      ],
      "metadata": {
        "id": "JiGJRxW64ZO5"
      }
    },
    {
      "cell_type": "code",
      "source": [
        "path = \"/content/drive/MyDrive/hateful_memes/\"\n",
        "\n",
        "y_train = np.zeros(len(train_data))\n",
        "print(len(y_train), type(y_train))\n",
        "img_size = 64\n",
        "X_train = np.empty((len(train_data), img_size, img_size))\n",
        "print(len(X_train), X_train.shape)\n",
        "\n",
        "\n",
        "for idx in range(len(train_data)):\n",
        "  print(idx)\n",
        "  img_dict = train_data[idx]\n",
        "  # print(img_dict)\n",
        "  label = img_dict['label']\n",
        "  y_train[idx] = label\n",
        "\n",
        "  img_path = path+img_dict['img']\n",
        "  # print(img_path)\n",
        "  img = cv2.imread(img_path)\n",
        "  img = cv2.cvtColor(img, cv2.COLOR_BGR2GRAY)\n",
        "  resized_img = cv2.resize(img, (img_size, img_size))\n",
        "  X_train[idx] = resized_img\n"
      ],
      "metadata": {
        "id": "Tt9VPqJLhuhy"
      },
      "execution_count": null,
      "outputs": []
    },
    {
      "cell_type": "code",
      "source": [
        "print(X_train.shape)\n",
        "print(y_train.shape)"
      ],
      "metadata": {
        "id": "eq5ay4ggQvs4",
        "colab": {
          "base_uri": "https://localhost:8080/"
        },
        "outputId": "b270595a-a819-4d62-a4c8-a6e8e974d53e"
      },
      "execution_count": null,
      "outputs": [
        {
          "output_type": "stream",
          "name": "stdout",
          "text": [
            "(8500, 64, 64)\n",
            "(8500,)\n"
          ]
        }
      ]
    },
    {
      "cell_type": "markdown",
      "source": [
        "### Preparing Validation set"
      ],
      "metadata": {
        "id": "XfXWiOkuQVro"
      }
    },
    {
      "cell_type": "code",
      "source": [
        "path = \"/content/drive/MyDrive/hateful_memes/\"\n",
        "\n",
        "y_valid = np.zeros(len(valid_data))\n",
        "print(len(y_valid), type(y_valid))\n",
        "\n",
        "img_size = 64\n",
        "X_valid = np.empty((len(valid_data), img_size, img_size))\n",
        "print(len(X_valid), X_valid.shape)\n",
        "\n",
        "\n",
        "for idx in range(len(valid_data)):\n",
        "  print(idx)\n",
        "  img_dict = valid_data[idx]\n",
        "  # print(img_dict)\n",
        "  label = img_dict['label']\n",
        "  y_valid[idx] = label\n",
        "\n",
        "  img_path = path+img_dict['img']\n",
        "  # print(img_path)\n",
        "  img = cv2.imread(img_path)\n",
        "  img = cv2.cvtColor(img, cv2.COLOR_BGR2GRAY)\n",
        "  resized_img = cv2.resize(img, (img_size, img_size))\n",
        "  X_valid[idx] = resized_img\n"
      ],
      "metadata": {
        "id": "4UDGnfG_OnUj"
      },
      "execution_count": null,
      "outputs": []
    },
    {
      "cell_type": "code",
      "source": [
        "print(X_valid.shape)\n",
        "print(y_valid.shape)"
      ],
      "metadata": {
        "id": "kNvGW0_7OnQ9",
        "colab": {
          "base_uri": "https://localhost:8080/"
        },
        "outputId": "f7e27a3f-6363-422c-9305-a0bca666e3b1"
      },
      "execution_count": null,
      "outputs": [
        {
          "output_type": "stream",
          "name": "stdout",
          "text": [
            "(500, 64, 64)\n",
            "(500,)\n"
          ]
        }
      ]
    },
    {
      "cell_type": "markdown",
      "source": [
        "### Preparing Test set"
      ],
      "metadata": {
        "id": "gydCw6nYRDLb"
      }
    },
    {
      "cell_type": "code",
      "source": [
        "path = \"/content/drive/MyDrive/hateful_memes/\"\n",
        "\n",
        "y_test = np.zeros(len(test_data))\n",
        "print(len(y_test), type(y_test))\n",
        "\n",
        "img_size = 64\n",
        "X_test = np.empty((len(test_data), img_size, img_size))\n",
        "print(len(X_test), X_test.shape)\n",
        "\n",
        "\n",
        "for idx in range(len(test_data)):\n",
        "  print(idx)\n",
        "  img_dict = test_data[idx]\n",
        "  # print(img_dict)\n",
        "  label = img_dict['label']\n",
        "  y_test[idx] = label\n",
        "\n",
        "  img_path = path+img_dict['img']\n",
        "  # print(img_path)\n",
        "  img = cv2.imread(img_path)\n",
        "  img = cv2.cvtColor(img, cv2.COLOR_BGR2GRAY)\n",
        "  resized_img = cv2.resize(img, (img_size, img_size))\n",
        "  X_test[idx] = resized_img\n"
      ],
      "metadata": {
        "id": "Wcoa9Zj8OnF8"
      },
      "execution_count": null,
      "outputs": []
    },
    {
      "cell_type": "code",
      "source": [
        "print(X_test.shape)\n",
        "print(y_test.shape)"
      ],
      "metadata": {
        "id": "jLapuIGoRK8R",
        "colab": {
          "base_uri": "https://localhost:8080/"
        },
        "outputId": "e0d7e1a0-0709-4fa8-8860-0b06e7035d12"
      },
      "execution_count": null,
      "outputs": [
        {
          "output_type": "stream",
          "name": "stdout",
          "text": [
            "(1000, 64, 64)\n",
            "(1000,)\n"
          ]
        }
      ]
    },
    {
      "cell_type": "code",
      "source": [
        "print(X_train.shape)\n",
        "print(y_train.shape)\n",
        "\n",
        "print(X_valid.shape)\n",
        "print(y_valid.shape)\n",
        "\n",
        "print(X_test.shape)\n",
        "print(y_test.shape)"
      ],
      "metadata": {
        "id": "O2aflL5-RKwU",
        "colab": {
          "base_uri": "https://localhost:8080/"
        },
        "outputId": "c8ce9823-7308-4309-b440-940636f33a45"
      },
      "execution_count": null,
      "outputs": [
        {
          "output_type": "stream",
          "name": "stdout",
          "text": [
            "(8500, 64, 64)\n",
            "(8500,)\n",
            "(500, 64, 64)\n",
            "(500,)\n",
            "(1000, 64, 64)\n",
            "(1000,)\n"
          ]
        }
      ]
    },
    {
      "cell_type": "code",
      "source": [
        "max(X_train[4].reshape(-1,))"
      ],
      "metadata": {
        "id": "dXCnNFuXHs_5",
        "colab": {
          "base_uri": "https://localhost:8080/"
        },
        "outputId": "7dc09be5-5414-48e0-8465-c59d35faa2f2"
      },
      "execution_count": null,
      "outputs": [
        {
          "output_type": "execute_result",
          "data": {
            "text/plain": [
              "255.0"
            ]
          },
          "metadata": {},
          "execution_count": 14
        }
      ]
    },
    {
      "cell_type": "code",
      "source": [
        "np.unique(y_train, return_counts=True)"
      ],
      "metadata": {
        "id": "I1jKgE_k9OVB",
        "colab": {
          "base_uri": "https://localhost:8080/"
        },
        "outputId": "1fb2c13b-53a2-4eb9-ca10-2e3f62084f1d"
      },
      "execution_count": null,
      "outputs": [
        {
          "output_type": "execute_result",
          "data": {
            "text/plain": [
              "(array([0., 1.]), array([5481, 3019]))"
            ]
          },
          "metadata": {},
          "execution_count": 15
        }
      ]
    },
    {
      "cell_type": "code",
      "source": [
        "cv2_imshow(X_train[0])"
      ],
      "metadata": {
        "id": "NhdloiUOKAq9",
        "colab": {
          "base_uri": "https://localhost:8080/",
          "height": 81
        },
        "outputId": "ad650e5e-a6b0-4fda-c92b-b9f9f27d160c"
      },
      "execution_count": null,
      "outputs": [
        {
          "output_type": "display_data",
          "data": {
            "text/plain": [
              "<PIL.Image.Image image mode=L size=64x64 at 0x7FDC48DCB6A0>"
            ],
            "image/png": "[encoded data removed]"
          },
          "metadata": {}
        }
      ]
    },
    {
      "cell_type": "code",
      "source": [
        "max(X_train[6].reshape(-1, ))"
      ],
      "metadata": {
        "id": "urhgqUbuIbc7",
        "colab": {
          "base_uri": "https://localhost:8080/"
        },
        "outputId": "df09c833-746e-49ea-c254-bb6258224657"
      },
      "execution_count": null,
      "outputs": [
        {
          "output_type": "execute_result",
          "data": {
            "text/plain": [
              "255.0"
            ]
          },
          "metadata": {},
          "execution_count": 17
        }
      ]
    },
    {
      "cell_type": "code",
      "source": [
        "cv2_imshow(X_valid[5])\n",
        "print(y_valid[5])"
      ],
      "metadata": {
        "id": "NvttjQL3btJk",
        "colab": {
          "base_uri": "https://localhost:8080/",
          "height": 99
        },
        "outputId": "e6156b51-5d78-4f0e-c71e-6c02980f44d5"
      },
      "execution_count": null,
      "outputs": [
        {
          "output_type": "display_data",
          "data": {
            "text/plain": [
              "<PIL.Image.Image image mode=L size=64x64 at 0x7FDC48DC9AB0>"
            ],
            "image/png": "[encoded data removed]"
          },
          "metadata": {}
        },
        {
          "output_type": "stream",
          "name": "stdout",
          "text": [
            "1.0\n"
          ]
        }
      ]
    },
    {
      "cell_type": "markdown",
      "source": [
        "#### Normalizing the data sets"
      ],
      "metadata": {
        "id": "n3LTd-ms960I"
      }
    },
    {
      "cell_type": "code",
      "source": [
        "X_train = X_train/255.0\n",
        "X_valid = X_valid/255.0\n",
        "X_test = X_test/255.0"
      ],
      "metadata": {
        "id": "9Mye7Y1P9yrE"
      },
      "execution_count": null,
      "outputs": []
    },
    {
      "cell_type": "markdown",
      "source": [
        "### Part 2) Model-VGG16 and its Architecture"
      ],
      "metadata": {
        "id": "8SXC1boVkkOh"
      }
    },
    {
      "cell_type": "code",
      "source": [
        "from keras.models import Model\n",
        "from keras.layers import Conv2D, MaxPooling2D, Input\n",
        "from keras.layers import Activation, Dropout, Flatten, Dense"
      ],
      "metadata": {
        "id": "hhJMDX8laRdE"
      },
      "execution_count": null,
      "outputs": []
    },
    {
      "cell_type": "code",
      "source": [
        "# Model parameters\n",
        "shape_of_img = (64,64,1)\n",
        "\n",
        "input_img = Input(shape=shape_of_img)\n",
        "print(input_img)"
      ],
      "metadata": {
        "id": "NMqmy_3faRaa",
        "colab": {
          "base_uri": "https://localhost:8080/"
        },
        "outputId": "40d36728-432c-41d8-8f9b-e7ed7379ccb7"
      },
      "execution_count": null,
      "outputs": [
        {
          "output_type": "stream",
          "name": "stdout",
          "text": [
            "KerasTensor(type_spec=TensorSpec(shape=(None, 64, 64, 1), dtype=tf.float32, name='input_1'), name='input_1', description=\"created by layer 'input_1'\")\n"
          ]
        }
      ]
    },
    {
      "cell_type": "code",
      "source": [
        "#VGG16 architecture\n",
        "\n",
        "# Block 1\n",
        "x = Conv2D(64, (3, 3), activation='relu', padding='same', name='block1_conv1')(input_img)\n",
        "x = Conv2D(64, (3, 3), activation='relu', padding='same', name='block1_conv2')(x)\n",
        "x = MaxPooling2D((2, 2), strides=(2, 2), name='block1_mx_pool')(x)\n",
        "\n",
        "# Block 2\n",
        "x = Conv2D(128, (3, 3), activation='relu', padding='same', name='block2_conv1')(x)\n",
        "x = Conv2D(128, (3, 3), activation='relu', padding='same', name='block2_conv2')(x)\n",
        "x = MaxPooling2D((2, 2), strides=(2, 2), name='block2_mx_pool')(x)\n",
        "\n",
        "# Block 3\n",
        "x = Conv2D(256, (3, 3), activation='relu', padding='same', name='block3_conv1')(x)\n",
        "x = Conv2D(256, (3, 3), activation='relu', padding='same', name='block3_conv2')(x)\n",
        "x = Conv2D(256, (3, 3), activation='relu', padding='same', name='block3_conv3')(x)\n",
        "x = MaxPooling2D((2, 2), strides=(2, 2), name='block3_mx_pool')(x)\n",
        "\n",
        "# Block 4\n",
        "x = Conv2D(512, (3, 3), activation='relu', padding='same', name='block4_conv1')(x)\n",
        "x = Conv2D(512, (3, 3), activation='relu', padding='same', name='block4_conv2')(x)\n",
        "x = Conv2D(512, (3, 3), activation='relu', padding='same', name='block4_conv3')(x)\n",
        "x = MaxPooling2D((2, 2), strides=(2, 2), name='block4_mx_pool')(x)\n",
        "\n",
        "#Block 5\n",
        "x = Conv2D(512, (3, 3), activation='relu', padding='same', name='block5_conv1')(x)\n",
        "x = Conv2D(512, (3, 3), activation='relu', padding='same', name='block5_conv2')(x)\n",
        "x = Conv2D(512, (3, 3), activation='relu', padding='same', name='block5_conv3')(x)\n",
        "x = MaxPooling2D((2, 2), strides=(2, 2), name='block5_mx_pool')(x)\n",
        "\n",
        "\n",
        "# Classification block\n",
        "x = Flatten(name='flatten_input')(x)\n",
        "x = Dense(4096, activation='relu', name='fc1')(x)\n",
        "x = Dense(4096, activation='relu', name='fc2')(x)\n",
        "x = Dense(2, activation='softmax', name='predictions')(x)\n",
        "\n",
        "\n",
        "model = Model(inputs = input_img, outputs = x, name='VGG16')"
      ],
      "metadata": {
        "id": "_MdwstCpaRXw"
      },
      "execution_count": null,
      "outputs": []
    },
    {
      "cell_type": "code",
      "source": [
        "model.summary()"
      ],
      "metadata": {
        "id": "fnLuGgUYac91",
        "colab": {
          "base_uri": "https://localhost:8080/"
        },
        "outputId": "db6ccc7f-3a2d-4d66-8bb2-98e44eb37ab7"
      },
      "execution_count": null,
      "outputs": [
        {
          "output_type": "stream",
          "name": "stdout",
          "text": [
            "Model: \"VGG16\"\n",
            "_________________________________________________________________\n",
            " Layer (type)                Output Shape              Param #   \n",
            "=================================================================\n",
            " input_1 (InputLayer)        [(None, 64, 64, 1)]       0         \n",
            "                                                                 \n",
            " block1_conv1 (Conv2D)       (None, 64, 64, 64)        640       \n",
            "                                                                 \n",
            " block1_conv2 (Conv2D)       (None, 64, 64, 64)        36928     \n",
            "                                                                 \n",
            " block1_mx_pool (MaxPooling2  (None, 32, 32, 64)       0         \n",
            " D)                                                              \n",
            "                                                                 \n",
            " block2_conv1 (Conv2D)       (None, 32, 32, 128)       73856     \n",
            "                                                                 \n",
            " block2_conv2 (Conv2D)       (None, 32, 32, 128)       147584    \n",
            "                                                                 \n",
            " block2_mx_pool (MaxPooling2  (None, 16, 16, 128)      0         \n",
            " D)                                                              \n",
            "                                                                 \n",
            " block3_conv1 (Conv2D)       (None, 16, 16, 256)       295168    \n",
            "                                                                 \n",
            " block3_conv2 (Conv2D)       (None, 16, 16, 256)       590080    \n",
            "                                                                 \n",
            " block3_conv3 (Conv2D)       (None, 16, 16, 256)       590080    \n",
            "                                                                 \n",
            " block3_mx_pool (MaxPooling2  (None, 8, 8, 256)        0         \n",
            " D)                                                              \n",
            "                                                                 \n",
            " block4_conv1 (Conv2D)       (None, 8, 8, 512)         1180160   \n",
            "                                                                 \n",
            " block4_conv2 (Conv2D)       (None, 8, 8, 512)         2359808   \n",
            "                                                                 \n",
            " block4_conv3 (Conv2D)       (None, 8, 8, 512)         2359808   \n",
            "                                                                 \n",
            " block4_mx_pool (MaxPooling2  (None, 4, 4, 512)        0         \n",
            " D)                                                              \n",
            "                                                                 \n",
            " block5_conv1 (Conv2D)       (None, 4, 4, 512)         2359808   \n",
            "                                                                 \n",
            " block5_conv2 (Conv2D)       (None, 4, 4, 512)         2359808   \n",
            "                                                                 \n",
            " block5_conv3 (Conv2D)       (None, 4, 4, 512)         2359808   \n",
            "                                                                 \n",
            " block5_mx_pool (MaxPooling2  (None, 2, 2, 512)        0         \n",
            " D)                                                              \n",
            "                                                                 \n",
            " flatten_input (Flatten)     (None, 2048)              0         \n",
            "                                                                 \n",
            " fc1 (Dense)                 (None, 4096)              8392704   \n",
            "                                                                 \n",
            " fc2 (Dense)                 (None, 4096)              16781312  \n",
            "                                                                 \n",
            " predictions (Dense)         (None, 2)                 8194      \n",
            "                                                                 \n",
            "=================================================================\n",
            "Total params: 39,895,746\n",
            "Trainable params: 39,895,746\n",
            "Non-trainable params: 0\n",
            "_________________________________________________________________\n"
          ]
        }
      ]
    },
    {
      "cell_type": "code",
      "source": [
        "model.compile(optimizer='adam', \n",
        "             loss='sparse_categorical_crossentropy',\n",
        "             metrics=['accuracy'])"
      ],
      "metadata": {
        "id": "m4C7dlPGac6g"
      },
      "execution_count": null,
      "outputs": []
    },
    {
      "cell_type": "code",
      "source": [
        "model_train_history = model.fit(X_train, y_train, epochs=10)"
      ],
      "metadata": {
        "id": "oElcdw5ib01u",
        "colab": {
          "base_uri": "https://localhost:8080/"
        },
        "outputId": "587a871d-cd85-43dd-be21-70b0dc72089d"
      },
      "execution_count": null,
      "outputs": [
        {
          "output_type": "stream",
          "name": "stdout",
          "text": [
            "Epoch 1/10\n",
            "266/266 [==============================] - 31s 54ms/step - loss: 0.6563 - accuracy: 0.6428\n",
            "Epoch 2/10\n",
            "266/266 [==============================] - 13s 49ms/step - loss: 0.6529 - accuracy: 0.6448\n",
            "Epoch 3/10\n",
            "266/266 [==============================] - 13s 49ms/step - loss: 0.6515 - accuracy: 0.6448\n",
            "Epoch 4/10\n",
            "266/266 [==============================] - 13s 49ms/step - loss: 0.6518 - accuracy: 0.6448\n",
            "Epoch 5/10\n",
            "266/266 [==============================] - 13s 50ms/step - loss: 0.6513 - accuracy: 0.6448\n",
            "Epoch 6/10\n",
            "266/266 [==============================] - 13s 51ms/step - loss: 0.6512 - accuracy: 0.6448\n",
            "Epoch 7/10\n",
            "266/266 [==============================] - 14s 51ms/step - loss: 0.6512 - accuracy: 0.6448\n",
            "Epoch 8/10\n",
            "266/266 [==============================] - 14s 53ms/step - loss: 0.6510 - accuracy: 0.6448\n",
            "Epoch 9/10\n",
            "266/266 [==============================] - 14s 53ms/step - loss: 0.6511 - accuracy: 0.6448\n",
            "Epoch 10/10\n",
            "266/266 [==============================] - 14s 51ms/step - loss: 0.6515 - accuracy: 0.6448\n"
          ]
        }
      ]
    },
    {
      "cell_type": "code",
      "source": [
        "model_valid_history = model.fit(X_valid, y_valid, epochs=10)"
      ],
      "metadata": {
        "id": "2Rtp1eZOb32B",
        "colab": {
          "base_uri": "https://localhost:8080/"
        },
        "outputId": "f3de7596-a88b-4d16-d229-9807ad60db72"
      },
      "execution_count": null,
      "outputs": [
        {
          "output_type": "stream",
          "name": "stdout",
          "text": [
            "Epoch 1/10\n",
            "16/16 [==============================] - 1s 52ms/step - loss: 0.7240 - accuracy: 0.5060\n",
            "Epoch 2/10\n",
            "16/16 [==============================] - 1s 49ms/step - loss: 0.6999 - accuracy: 0.5060\n",
            "Epoch 3/10\n",
            "16/16 [==============================] - 1s 49ms/step - loss: 0.6957 - accuracy: 0.5060\n",
            "Epoch 4/10\n",
            "16/16 [==============================] - 1s 51ms/step - loss: 0.6933 - accuracy: 0.5060\n",
            "Epoch 5/10\n",
            "16/16 [==============================] - 1s 52ms/step - loss: 0.6931 - accuracy: 0.5060\n",
            "Epoch 6/10\n",
            "16/16 [==============================] - 1s 53ms/step - loss: 0.6933 - accuracy: 0.5060\n",
            "Epoch 7/10\n",
            "16/16 [==============================] - 1s 52ms/step - loss: 0.6931 - accuracy: 0.5060\n",
            "Epoch 8/10\n",
            "16/16 [==============================] - 1s 50ms/step - loss: 0.6931 - accuracy: 0.5060\n",
            "Epoch 9/10\n",
            "16/16 [==============================] - 1s 50ms/step - loss: 0.6932 - accuracy: 0.5060\n",
            "Epoch 10/10\n",
            "16/16 [==============================] - 1s 50ms/step - loss: 0.6932 - accuracy: 0.5060\n"
          ]
        }
      ]
    },
    {
      "cell_type": "code",
      "source": [],
      "metadata": {
        "id": "Cv9IMoHQjTW0"
      },
      "execution_count": null,
      "outputs": []
    },
    {
      "cell_type": "markdown",
      "source": [
        "### Part 3) Plots"
      ],
      "metadata": {
        "id": "PhyrmZJsvbAj"
      }
    },
    {
      "cell_type": "code",
      "source": [
        "train_loss = model_train_history.history['loss']\n",
        "valid_loss = model_valid_history.history['loss']\n",
        "print(len(train_loss), train_loss)\n",
        "print(len(valid_loss), valid_loss)\n",
        "\n",
        "\n",
        "train_accu = model_train_history.history['accuracy']\n",
        "valid_accu = model_valid_history.history['accuracy']\n",
        "# print(train_accu)\n",
        "# print(valid_accu)"
      ],
      "metadata": {
        "id": "G6A7zOwLb3yg",
        "colab": {
          "base_uri": "https://localhost:8080/"
        },
        "outputId": "a55dfc87-870b-4f1a-cf38-8bfa1faac9af"
      },
      "execution_count": null,
      "outputs": [
        {
          "output_type": "stream",
          "name": "stdout",
          "text": [
            "10 [0.6562662720680237, 0.6528827548027039, 0.6514920592308044, 0.6518349647521973, 0.6512972116470337, 0.6511578559875488, 0.6512132287025452, 0.6509846448898315, 0.6510982513427734, 0.6515316367149353]\n",
            "10 [0.7239704132080078, 0.6998786330223083, 0.6956936120986938, 0.6932557225227356, 0.6931341290473938, 0.6933122873306274, 0.6930875182151794, 0.6931237578392029, 0.6931613683700562, 0.6931840777397156]\n"
          ]
        }
      ]
    },
    {
      "cell_type": "code",
      "source": [
        "train_accuracy = [ele*100 for ele in train_accu]\n",
        "valid_accuracy = [ele*100 for ele in valid_accu]\n",
        "\n",
        "print(len(train_accuracy), train_accuracy)\n",
        "print(len(valid_accuracy), valid_accuracy)"
      ],
      "metadata": {
        "id": "tgw9XXTWu4ab",
        "colab": {
          "base_uri": "https://localhost:8080/"
        },
        "outputId": "67e03138-517e-487c-c157-e24b71c9f09e"
      },
      "execution_count": null,
      "outputs": [
        {
          "output_type": "stream",
          "name": "stdout",
          "text": [
            "10 [64.28235173225403, 64.48235511779785, 64.48235511779785, 64.48235511779785, 64.48235511779785, 64.48235511779785, 64.48235511779785, 64.48235511779785, 64.48235511779785, 64.48235511779785]\n",
            "10 [50.599998235702515, 50.599998235702515, 50.599998235702515, 50.599998235702515, 50.599998235702515, 50.599998235702515, 50.599998235702515, 50.599998235702515, 50.599998235702515, 50.599998235702515]\n"
          ]
        }
      ]
    },
    {
      "cell_type": "code",
      "source": [
        "# epoch_arr = [num for num in range(1, len(train_loss)+1)]\n",
        "# epoch_arr"
      ],
      "metadata": {
        "id": "-EAAzvNLc66G"
      },
      "execution_count": null,
      "outputs": []
    },
    {
      "cell_type": "markdown",
      "source": [
        "#### Train Loss and Validation Loss vs Epochs"
      ],
      "metadata": {
        "id": "BBYnpGT_xE_8"
      }
    },
    {
      "cell_type": "code",
      "source": [
        "# plot for training loss and validation loss\n",
        "# plot for train loss vs epochs\n",
        "plt.figure(figsize=(4,3))\n",
        "plt.plot(train_loss)\n",
        "plt.plot(valid_loss)\n",
        "plt.title(\"Plot: Train, Validation Loss vs Epochs\")\n",
        "plt.ylabel(\"Loss\")   \n",
        "plt.xlabel(\"Epoch\")\n",
        "plt.legend(['train', 'valid'], loc='upper right')\n",
        "plt.savefig(\"train_valid_loss_epochs.png\", bbox_inches=\"tight\", pad_inches=2, transparent=False)\n",
        "plt.show()"
      ],
      "metadata": {
        "id": "e55YW_WdfGC-",
        "colab": {
          "base_uri": "https://localhost:8080/",
          "height": 333
        },
        "outputId": "5a0bd22e-5bf0-47f1-f243-4aab576f0df0"
      },
      "execution_count": null,
      "outputs": [
        {
          "output_type": "display_data",
          "data": {
            "text/plain": [
              "<Figure size 400x300 with 1 Axes>"
            ],
            "image/png": "[encoded data removed]"
          },
          "metadata": {}
        }
      ]
    },
    {
      "cell_type": "markdown",
      "source": [
        "#### Train accuracy and Validation accuracy vs Epochs"
      ],
      "metadata": {
        "id": "-Pnl6PKJ8O9B"
      }
    },
    {
      "cell_type": "code",
      "source": [
        "# plot for training accuracy and validation accuracy\n",
        "# plot for train accuracy vs epochs\n",
        "plt.figure(figsize=(4,3))\n",
        "plt.plot(train_accuracy)\n",
        "plt.plot(valid_accuracy)\n",
        "plt.title(\"Plot: Train, Validation Accuracy vs Epochs\")\n",
        "plt.ylabel(\"Accuracy\")   \n",
        "plt.xlabel(\"Epoch\")\n",
        "plt.legend(['train', 'valid'], loc='upper right')\n",
        "plt.savefig(\"train_valid_accu_epochs.png\", bbox_inches=\"tight\", pad_inches=2, transparent=False)\n",
        "plt.show()"
      ],
      "metadata": {
        "id": "HrzONWdsfF-9",
        "colab": {
          "base_uri": "https://localhost:8080/",
          "height": 333
        },
        "outputId": "77230bae-7c8d-413d-c087-e47514a1f922"
      },
      "execution_count": null,
      "outputs": [
        {
          "output_type": "display_data",
          "data": {
            "text/plain": [
              "<Figure size 400x300 with 1 Axes>"
            ],
            "image/png": "[encoded data removed]"
          },
          "metadata": {}
        }
      ]
    },
    {
      "cell_type": "code",
      "source": [
        "y_pred = model.predict(X_test)\n",
        "y_pred = [np.argmax(i) for i in y_pred]"
      ],
      "metadata": {
        "id": "Z8q_GFPec62v",
        "colab": {
          "base_uri": "https://localhost:8080/"
        },
        "outputId": "ddce69be-4342-4e17-cead-0c7f430c983d"
      },
      "execution_count": null,
      "outputs": [
        {
          "output_type": "stream",
          "name": "stdout",
          "text": [
            "32/32 [==============================] - 1s 23ms/step\n"
          ]
        }
      ]
    },
    {
      "cell_type": "code",
      "source": [
        "print(len(y_pred), y_pred)\n",
        "np.unique(y_pred)"
      ],
      "metadata": {
        "id": "OVklyrXGrkFZ",
        "colab": {
          "base_uri": "https://localhost:8080/"
        },
        "outputId": "f615e9f3-f80a-4f01-d1c0-cc3660fff47f"
      },
      "execution_count": null,
      "outputs": [
        {
          "output_type": "stream",
          "name": "stdout",
          "text": [
            "1000 [0, 0, 0, 0, 0, 0, 0, 0, 0, 0, 0, 0, 0, 0, 0, 0, 0, 0, 0, 0, 0, 0, 0, 0, 0, 0, 0, 0, 0, 0, 0, 0, 0, 0, 0, 0, 0, 0, 0, 0, 0, 0, 0, 0, 0, 0, 0, 0, 0, 0, 0, 0, 0, 0, 0, 0, 0, 0, 0, 0, 0, 0, 0, 0, 0, 0, 0, 0, 0, 0, 0, 0, 0, 0, 0, 0, 0, 0, 0, 0, 0, 0, 0, 0, 0, 0, 0, 0, 0, 0, 0, 0, 0, 0, 0, 0, 0, 0, 0, 0, 0, 0, 0, 0, 0, 0, 0, 0, 0, 0, 0, 0, 0, 0, 0, 0, 0, 0, 0, 0, 0, 0, 0, 0, 0, 0, 0, 0, 0, 0, 0, 0, 0, 0, 0, 0, 0, 0, 0, 0, 0, 0, 0, 0, 0, 0, 0, 0, 0, 0, 0, 0, 0, 0, 0, 0, 0, 0, 0, 0, 0, 0, 0, 0, 0, 0, 0, 0, 0, 0, 0, 0, 0, 0, 0, 0, 0, 0, 0, 0, 0, 0, 0, 0, 0, 0, 0, 0, 0, 0, 0, 0, 0, 0, 0, 0, 0, 0, 0, 0, 0, 0, 0, 0, 0, 0, 0, 0, 0, 0, 0, 0, 0, 0, 0, 0, 0, 0, 0, 0, 0, 0, 0, 0, 0, 0, 0, 0, 0, 0, 0, 0, 0, 0, 0, 0, 0, 0, 0, 0, 0, 0, 0, 0, 0, 0, 0, 0, 0, 0, 0, 0, 0, 0, 0, 0, 0, 0, 0, 0, 0, 0, 0, 0, 0, 0, 0, 0, 0, 0, 0, 0, 0, 0, 0, 0, 0, 0, 0, 0, 0, 0, 0, 0, 0, 0, 0, 0, 0, 0, 0, 0, 0, 0, 0, 0, 0, 0, 0, 0, 0, 0, 0, 0, 0, 0, 0, 0, 0, 0, 0, 0, 0, 0, 0, 0, 0, 0, 0, 0, 0, 0, 0, 0, 0, 0, 0, 0, 0, 0, 0, 0, 0, 0, 0, 0, 0, 0, 0, 0, 0, 0, 0, 0, 0, 0, 0, 0, 0, 0, 0, 0, 0, 0, 0, 0, 0, 0, 0, 0, 0, 0, 0, 0, 0, 0, 0, 0, 0, 0, 0, 0, 0, 0, 0, 0, 0, 0, 0, 0, 0, 0, 0, 0, 0, 0, 0, 0, 0, 0, 0, 0, 0, 0, 0, 0, 0, 0, 0, 0, 0, 0, 0, 0, 0, 0, 0, 0, 0, 0, 0, 0, 0, 0, 0, 0, 0, 0, 0, 0, 0, 0, 0, 0, 0, 0, 0, 0, 0, 0, 0, 0, 0, 0, 0, 0, 0, 0, 0, 0, 0, 0, 0, 0, 0, 0, 0, 0, 0, 0, 0, 0, 0, 0, 0, 0, 0, 0, 0, 0, 0, 0, 0, 0, 0, 0, 0, 0, 0, 0, 0, 0, 0, 0, 0, 0, 0, 0, 0, 0, 0, 0, 0, 0, 0, 0, 0, 0, 0, 0, 0, 0, 0, 0, 0, 0, 0, 0, 0, 0, 0, 0, 0, 0, 0, 0, 0, 0, 0, 0, 0, 0, 0, 0, 0, 0, 0, 0, 0, 0, 0, 0, 0, 0, 0, 0, 0, 0, 0, 0, 0, 0, 0, 0, 0, 0, 0, 0, 0, 0, 0, 0, 0, 0, 0, 0, 0, 0, 0, 0, 0, 0, 0, 0, 0, 0, 0, 0, 0, 0, 0, 0, 0, 0, 0, 0, 0, 0, 0, 0, 0, 0, 0, 0, 0, 0, 0, 0, 0, 0, 0, 0, 0, 0, 0, 0, 0, 0, 0, 0, 0, 0, 0, 0, 0, 0, 0, 0, 0, 0, 0, 0, 0, 0, 0, 0, 0, 0, 0, 0, 0, 0, 0, 0, 0, 0, 0, 0, 0, 0, 0, 0, 0, 0, 0, 0, 0, 0, 0, 0, 0, 0, 0, 0, 0, 0, 0, 0, 0, 0, 0, 0, 0, 0, 0, 0, 0, 0, 0, 0, 0, 0, 0, 0, 0, 0, 0, 0, 0, 0, 0, 0, 0, 0, 0, 0, 0, 0, 0, 0, 0, 0, 0, 0, 0, 0, 0, 0, 0, 0, 0, 0, 0, 0, 0, 0, 0, 0, 0, 0, 0, 0, 0, 0, 0, 0, 0, 0, 0, 0, 0, 0, 0, 0, 0, 0, 0, 0, 0, 0, 0, 0, 0, 0, 0, 0, 0, 0, 0, 0, 0, 0, 0, 0, 0, 0, 0, 0, 0, 0, 0, 0, 0, 0, 0, 0, 0, 0, 0, 0, 0, 0, 0, 0, 0, 0, 0, 0, 0, 0, 0, 0, 0, 0, 0, 0, 0, 0, 0, 0, 0, 0, 0, 0, 0, 0, 0, 0, 0, 0, 0, 0, 0, 0, 0, 0, 0, 0, 0, 0, 0, 0, 0, 0, 0, 0, 0, 0, 0, 0, 0, 0, 0, 0, 0, 0, 0, 0, 0, 0, 0, 0, 0, 0, 0, 0, 0, 0, 0, 0, 0, 0, 0, 0, 0, 0, 0, 0, 0, 0, 0, 0, 0, 0, 0, 0, 0, 0, 0, 0, 0, 0, 0, 0, 0, 0, 0, 0, 0, 0, 0, 0, 0, 0, 0, 0, 0, 0, 0, 0, 0, 0, 0, 0, 0, 0, 0, 0, 0, 0, 0, 0, 0, 0, 0, 0, 0, 0, 0, 0, 0, 0, 0, 0, 0, 0, 0, 0, 0, 0, 0, 0, 0, 0, 0, 0, 0, 0, 0, 0, 0, 0, 0, 0, 0, 0, 0, 0, 0, 0, 0, 0, 0, 0, 0, 0, 0, 0, 0, 0, 0, 0, 0, 0, 0, 0, 0, 0, 0, 0, 0, 0, 0, 0, 0, 0, 0, 0, 0, 0, 0, 0, 0, 0, 0, 0, 0, 0, 0, 0, 0, 0, 0, 0, 0, 0, 0, 0, 0, 0, 0, 0, 0, 0, 0, 0, 0, 0, 0, 0, 0, 0, 0, 0, 0, 0, 0, 0, 0, 0, 0, 0, 0, 0, 0, 0, 0, 0, 0, 0, 0, 0, 0, 0, 0, 0, 0, 0, 0, 0, 0, 0, 0, 0, 0, 0, 0, 0, 0, 0]\n"
          ]
        },
        {
          "output_type": "execute_result",
          "data": {
            "text/plain": [
              "array([0])"
            ]
          },
          "metadata": {},
          "execution_count": 33
        }
      ]
    },
    {
      "cell_type": "markdown",
      "source": [
        "### Part4) Class-wise precision, recall and F1-score"
      ],
      "metadata": {
        "id": "Qaj2tbhq6bfP"
      }
    },
    {
      "cell_type": "code",
      "source": [
        "from sklearn import metrics\n",
        "from sklearn.metrics import accuracy_score\n",
        "from sklearn.metrics import precision_score\n",
        "from sklearn.metrics import recall_score\n",
        "from sklearn.metrics import f1_score"
      ],
      "metadata": {
        "id": "3-hKHZZX5LaH"
      },
      "execution_count": null,
      "outputs": []
    },
    {
      "cell_type": "code",
      "source": [
        "print(\"Accuracy = {}\".format(round(accuracy_score(y_test, y_pred), 2)))\n",
        "print(\"Precision = {}\".format(round(precision_score(y_test, y_pred), 2)))\n",
        "print(\"Recall = {}\".format(round(recall_score(y_test, y_pred), 2)))\n",
        "print(\"F1-score = {}\".format(round(f1_score(y_test, y_pred), 2)))"
      ],
      "metadata": {
        "id": "dcehJTq26Zzq",
        "colab": {
          "base_uri": "https://localhost:8080/"
        },
        "outputId": "656c1f4c-6646-4654-fd25-98095c389327"
      },
      "execution_count": null,
      "outputs": [
        {
          "output_type": "stream",
          "name": "stdout",
          "text": [
            "Accuracy = 0.51\n",
            "Precision = 0.0\n",
            "Recall = 0.0\n",
            "F1-score = 0.0\n"
          ]
        }
      ]
    },
    {
      "cell_type": "code",
      "source": [
        "print(metrics.classification_report(y_test, y_pred, digits=2))"
      ],
      "metadata": {
        "id": "FHA6Pnfq20We",
        "colab": {
          "base_uri": "https://localhost:8080/"
        },
        "outputId": "9d925ea2-11bc-4c94-bb59-f82716dcd73a"
      },
      "execution_count": null,
      "outputs": [
        {
          "output_type": "stream",
          "name": "stdout",
          "text": [
            "              precision    recall  f1-score   support\n",
            "\n",
            "         0.0       0.51      1.00      0.68       510\n",
            "         1.0       0.00      0.00      0.00       490\n",
            "\n",
            "    accuracy                           0.51      1000\n",
            "   macro avg       0.26      0.50      0.34      1000\n",
            "weighted avg       0.26      0.51      0.34      1000\n",
            "\n"
          ]
        }
      ]
    },
    {
      "cell_type": "code",
      "source": [],
      "metadata": {
        "id": "VkzoH0AI20S5"
      },
      "execution_count": null,
      "outputs": []
    },
    {
      "cell_type": "code",
      "source": [],
      "metadata": {
        "id": "CNfeZ297NSOB"
      },
      "execution_count": null,
      "outputs": []
    }
  ]
}