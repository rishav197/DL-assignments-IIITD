{
  "nbformat": 4,
  "nbformat_minor": 0,
  "metadata": {
    "colab": {
      "provenance": [],
      "authorship_tag": "ABX9TyNxgdRyPoZjzMTVzvcaQL7/",
      "include_colab_link": true
    },
    "kernelspec": {
      "name": "python3",
      "display_name": "Python 3"
    },
    "language_info": {
      "name": "python"
    }
  },
  "cells": [
    {
      "cell_type": "markdown",
      "metadata": {
        "id": "view-in-github",
        "colab_type": "text"
      },
      "source": [
        "<a href=\"https://colab.research.google.com/github/rishav197/DL-assignments-IIITD/blob/main/A1/Q2/DL_A1_Q2.ipynb\" target=\"_parent\"><img src=\"https://colab.research.google.com/assets/colab-badge.svg\" alt=\"Open In Colab\"/></a>"
      ]
    },
    {
      "cell_type": "code",
      "execution_count": null,
      "metadata": {
        "id": "qYf-EAuBmL-8"
      },
      "outputs": [],
      "source": [
        "import numpy as np"
      ]
    },
    {
      "cell_type": "markdown",
      "source": [
        "Part a)"
      ],
      "metadata": {
        "id": "USuOvRSbDEt7"
      }
    },
    {
      "cell_type": "code",
      "source": [
        "#defining gradient descent algorithm with parameters\n",
        "def gradient_descent(func, grad, x0, Y, step_size, tolerence=1e-3):\n",
        "  \"\"\"returning \n",
        "            x-> optimal point\n",
        "            last_iter -> total iterations to converge\n",
        "            fval_arr -> array of f values at each iteration\n",
        "  \"\"\"\n",
        "\n",
        "  last_iter=0 #total iterations\n",
        "  epoch=0 \n",
        "  fval_arr = [] #arr of f values at each iteration\n",
        "  while(True):\n",
        "    gradient = grad(x0)\n",
        "    x = x0 - step_size*gradient\n",
        "\n",
        "    # print(\"Iteration{}, x1={}, x2={}, f(x1,x2)={}\".format(epoch, x[0].item(), x[1].item(), func(x,Y)))\n",
        "    fval_arr.append(func(x,Y))\n",
        "    #condition for convergence of the algorithm\n",
        "    if np.linalg.norm(x-x0)/np.linalg.norm(x0)<tolerence:\n",
        "      last_iter=epoch\n",
        "      break\n",
        "    x0 = x\n",
        "    epoch += 1\n",
        "\n",
        "  return x, last_iter, fval_arr\n",
        "\n",
        "# defining function f(x1,x2) = x1**2 + Y*x2**2 - x1*x2 - x1 - x2\n",
        "def func(x, Y):\n",
        "  x1 = x[0].item()\n",
        "  x2 = x[1].item()\n",
        "\n",
        "  return x1**2 + Y*(x2**2) -x1*x2 -x1 -x2\n",
        "\n",
        "\n",
        "#gradient of the multivariate function f\n",
        "def grad(x):\n",
        "  x1 = x[0].item()\n",
        "  x2 = x[1].item()\n",
        "\n",
        "  del_f = np.zeros((2, 1))\n",
        "  del_f[0] = 2*x1 -x2 -1\n",
        "  del_f[1] = 2*x2 -x1 -1\n",
        "\n",
        "  return del_f"
      ],
      "metadata": {
        "id": "wt6EnWsLmbJZ"
      },
      "execution_count": null,
      "outputs": []
    },
    {
      "cell_type": "markdown",
      "source": [
        "Part b)"
      ],
      "metadata": {
        "id": "HESY_8wtDbDL"
      }
    },
    {
      "cell_type": "code",
      "source": [
        "x0 = np.array([4, 2]) #making numpy array size 2 \n",
        "# print(x0, x0.shape)\n",
        "x0 = np.reshape(x0, (2, 1)) #converting x0 into column vector of 2x1\n",
        "# print(x0, x0.shape)\n",
        "step_size = 0.1 # step size/ learning rate\n",
        "Y=1\n",
        "\n",
        "x,last_iter,fvals_arr = gradient_descent(func, grad, x0, Y, step_size)\n",
        "print()\n",
        "print(\"No. of Iterations required for convergence = {}\".format(last_iter+1))\n",
        "# print(fvales_arr, len(fvales_arr))"
      ],
      "metadata": {
        "colab": {
          "base_uri": "https://localhost:8080/"
        },
        "id": "pPuY3c9KmbMY",
        "outputId": "94c25596-67f8-4fd0-fc48-8875de27d903"
      },
      "execution_count": null,
      "outputs": [
        {
          "output_type": "stream",
          "name": "stdout",
          "text": [
            "\n",
            "No. of Iterations required for convergence = 52\n"
          ]
        }
      ]
    },
    {
      "cell_type": "markdown",
      "source": [
        "Part c)"
      ],
      "metadata": {
        "id": "reYUPvUKIavP"
      }
    },
    {
      "cell_type": "code",
      "source": [
        "# plot for iteration vs val of the function f\n",
        "import matplotlib.pyplot as plt\n",
        "\n",
        "plt.plot(fvals_arr)\n",
        "plt.title(\"Plot: iteration vs val of the function f\")\n",
        "plt.ylabel(\"Val of f\")   \n",
        "plt.xlabel(\"iteration\")\n",
        "plt.show()"
      ],
      "metadata": {
        "colab": {
          "base_uri": "https://localhost:8080/",
          "height": 295
        },
        "id": "WNFRNCtrmbQB",
        "outputId": "f5af4760-aec6-4d8e-d9d2-01da0b759052"
      },
      "execution_count": null,
      "outputs": [
        {
          "output_type": "display_data",
          "data": {
            "text/plain": [
              "<Figure size 432x288 with 1 Axes>"
            ],
            "image/png": "[encoded data removed]"
          },
          "metadata": {
            "needs_background": "light"
          }
        }
      ]
    },
    {
      "cell_type": "markdown",
      "source": [
        "Part d)"
      ],
      "metadata": {
        "id": "_Bxb0VxnMjRX"
      }
    },
    {
      "cell_type": "code",
      "source": [
        "import random\n",
        "\n",
        "# print(Y)\n",
        "#Arbitrarily generating 5 diff values of step size in range [0, 2]\n",
        "iter_arr = []\n",
        "step_size_arr = []\n",
        "for i in range(5):\n",
        "  # print(i)\n",
        "  step_size = round(random.uniform(0, 2)/10, 2)\n",
        "  # print(step_size, last_iter)\n",
        "  x,last_iter,fvals_arr = gradient_descent(func, grad, x0, Y, step_size)\n",
        "  \n",
        "  iter_arr.append(last_iter)\n",
        "  step_size_arr.append(step_size)\n",
        "\n",
        "iter_arr.sort()\n",
        "step_size_arr.sort()\n",
        "\n",
        "print(iter_arr)\n",
        "print(step_size_arr)\n",
        "\n",
        "# plot for iteration vs val of the function f\n",
        "import matplotlib.pyplot as plt\n",
        "\n",
        "plt.plot(step_size_arr, iter_arr)\n",
        "plt.scatter(step_size_arr, iter_arr)\n",
        "plt.title(\"Plot: step size vs iteration req to converge\")\n",
        "plt.ylabel(\"iteration req to converge\")   \n",
        "plt.xlabel(\"step size\")\n",
        "plt.show()"
      ],
      "metadata": {
        "colab": {
          "base_uri": "https://localhost:8080/",
          "height": 331
        },
        "id": "50DhLi39M7G2",
        "outputId": "1e243e68-a582-4396-a8c8-34dd11e721d8"
      },
      "execution_count": null,
      "outputs": [
        {
          "output_type": "stream",
          "name": "stdout",
          "text": [
            "[32, 38, 43, 51, 55]\n",
            "[0.09, 0.1, 0.12, 0.14, 0.17]\n"
          ]
        },
        {
          "output_type": "display_data",
          "data": {
            "text/plain": [
              "<Figure size 432x288 with 1 Axes>"
            ],
            "image/png": "[encoded data removed]"
          },
          "metadata": {
            "needs_background": "light"
          }
        }
      ]
    },
    {
      "cell_type": "markdown",
      "source": [
        "Part e)"
      ],
      "metadata": {
        "id": "3bOsGxVwa0nj"
      }
    },
    {
      "cell_type": "code",
      "source": [
        "import random\n",
        "\n",
        "\n",
        "# initial point x0 = [4, 2]\n",
        "x0 = np.array([4, 2])\n",
        "# print(x0, x0.shape)\n",
        "x0 = np.reshape(x0, (2, 1))\n",
        "# print(x0, x0.shape)\n",
        "step_size = 0.1\n",
        "\n",
        "\n",
        "# Arbitrarily generating 5 diff values of Y in range [0, 1]\n",
        "vals_Y_arr = []\n",
        "iter_arr = []\n",
        "for i in range(5):\n",
        "  # print(i)\n",
        "  val_Y = round(random.uniform(0, 1), 2)\n",
        "  x,last_iter,fvals_arr = gradient_descent(func, grad, x0, val_Y, step_size)\n",
        "  # print(val_Y, last_iter)\n",
        "\n",
        "  vals_Y_arr.append(val_Y)\n",
        "  iter_arr.append(last_iter)\n",
        "\n",
        "\n",
        "print(vals_Y_arr)\n",
        "print(iter_arr)\n",
        "\n",
        "\n",
        "# plot for Y vs iterations\n",
        "import matplotlib.pyplot as plt\n",
        "\n",
        "plt.plot(vals_Y_arr, iter_arr)\n",
        "plt.scatter(vals_Y_arr, iter_arr)\n",
        "plt.title(\"Plot: Y vs iterations\")\n",
        "plt.ylabel(\"iterations req to converge\")   \n",
        "plt.xlabel(\"values of Y\")\n",
        "plt.show()"
      ],
      "metadata": {
        "colab": {
          "base_uri": "https://localhost:8080/",
          "height": 331
        },
        "id": "UUi2kA7uax3G",
        "outputId": "37674825-f48a-4110-e45d-c2146828e8e1"
      },
      "execution_count": null,
      "outputs": [
        {
          "output_type": "stream",
          "name": "stdout",
          "text": [
            "[0.79, 0.65, 1.0, 0.35, 0.37]\n",
            "[51, 51, 51, 51, 51]\n"
          ]
        },
        {
          "output_type": "display_data",
          "data": {
            "text/plain": [
              "<Figure size 432x288 with 1 Axes>"
            ],
            "image/png": "[encoded data removed]"
          },
          "metadata": {
            "needs_background": "light"
          }
        }
      ]
    },
    {
      "cell_type": "markdown",
      "source": [
        "Part f)"
      ],
      "metadata": {
        "id": "eKfjEhiEbBh2"
      }
    },
    {
      "cell_type": "code",
      "source": [
        "#initial point x0 = [4, 2]\n",
        "x0 = np.array([4, 2])\n",
        "# print(x0, x0.shape)\n",
        "x0 = np.reshape(x0, (2, 1))\n",
        "# print(x0, x0.shape)\n",
        "step_size = 0.1\n",
        "Y = -1\n",
        "\n",
        "x,last_iter,fvals_arr = gradient_descent(func, grad, x0, Y, step_size)\n",
        "# print(fvals_arr)\n",
        "\n",
        "# plot for iteration vs val of the function f\n",
        "import matplotlib.pyplot as plt\n",
        "\n",
        "plt.plot(fvals_arr)\n",
        "plt.title(\"Plot: iteration vs val of the function f\")\n",
        "plt.ylabel(\"val of f\")   \n",
        "plt.xlabel(\"iteration\")\n",
        "plt.show()"
      ],
      "metadata": {
        "colab": {
          "base_uri": "https://localhost:8080/",
          "height": 295
        },
        "id": "DXB5HKYeRJ7p",
        "outputId": "47c395cf-2d10-48f8-fc71-c56a9ca73b3d"
      },
      "execution_count": null,
      "outputs": [
        {
          "output_type": "display_data",
          "data": {
            "text/plain": [
              "<Figure size 432x288 with 1 Axes>"
            ],
            "image/png": "[encoded data removed]"
          },
          "metadata": {
            "needs_background": "light"
          }
        }
      ]
    }
  ]
}